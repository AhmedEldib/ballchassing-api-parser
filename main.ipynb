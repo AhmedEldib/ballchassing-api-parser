{
 "cells": [
  {
   "cell_type": "code",
   "execution_count": 1,
   "source": [
    "import glob\r\n",
    "import json\r\n",
    "import os\r\n",
    "import requests\r\n",
    "import json\r\n",
    "from collections import Counter as counter\r\n",
    "import copy"
   ],
   "outputs": [],
   "metadata": {}
  },
  {
   "cell_type": "code",
   "execution_count": 2,
   "source": [
    "creds = json.load(\r\n",
    "        open('env_vars.json'))\r\n",
    "\r\n",
    "token = creds['api_token']"
   ],
   "outputs": [],
   "metadata": {}
  },
  {
   "cell_type": "code",
   "execution_count": 3,
   "source": [
    "create_group_url = 'https://ballchasing.com/api/groups'\r\n",
    "body = {\r\n",
    "    \"name\": \"23_aug\",\r\n",
    "    \"parent\": \"egrls-jh5f8i5yv7\",\r\n",
    "    \"player_identification\": \"by-id\",\r\n",
    "    \"team_identification\": \"by-player-clusters\"\r\n",
    "}\r\n",
    "req = requests.post(create_group_url, headers={\r\n",
    "                      'Authorization': token, 'Content-Type': \"application/json\"}, json=body)\r\n",
    "\r\n",
    "group_link = json.loads(req.text)['id']\r\n",
    "group_link"
   ],
   "outputs": [
    {
     "output_type": "execute_result",
     "data": {
      "text/plain": [
       "'23_aug-5o00103ovf'"
      ]
     },
     "metadata": {},
     "execution_count": 3
    }
   ],
   "metadata": {}
  },
  {
   "cell_type": "code",
   "execution_count": 3,
   "source": [
    "upload_url = \"https://ballchasing.com/api/v2/upload?visibility=public&group=21_aug-2upgrsk4ns\"# + group_link\r\n",
    "get_group_url = \"https://ballchasing.com/api/replays/?group=21_aug-2upgrsk4ns\"# + group_link\r\n",
    "\r\n",
    "get_group_url, upload_url"
   ],
   "outputs": [
    {
     "output_type": "execute_result",
     "data": {
      "text/plain": [
       "('https://ballchasing.com/api/replays/?group=21_aug-2upgrsk4ns',\n",
       " 'https://ballchasing.com/api/v2/upload?visibility=public&group=21_aug-2upgrsk4ns')"
      ]
     },
     "metadata": {},
     "execution_count": 3
    }
   ],
   "metadata": {}
  },
  {
   "cell_type": "code",
   "execution_count": 4,
   "source": [
    "def upload(path, token):\r\n",
    "    files = {'file': open(path, 'rb')}\r\n",
    "    r = requests.post(upload_url, headers={\r\n",
    "                      'Authorization': token}, files=files)\r\n",
    "\r\n",
    "    if r.status_code == 201:\r\n",
    "        # replay successfully created, return it's id\r\n",
    "        return r.json()['id']\r\n",
    "    elif r.status_code == 409:  # duplicate replay\r\n",
    "        # you have the choice: either raise an error, or return the existing replay id\r\n",
    "        return r.json()['id']\r\n",
    "    else:\r\n",
    "        # raise an error for other status codes (50x, ...)\r\n",
    "        r.raise_for_status()"
   ],
   "outputs": [],
   "metadata": {}
  },
  {
   "cell_type": "code",
   "execution_count": 5,
   "source": [
    "for f in glob.glob('files/21_Aug/new/*'):\r\n",
    "    upload(f, token)"
   ],
   "outputs": [],
   "metadata": {}
  },
  {
   "cell_type": "code",
   "execution_count": 6,
   "source": [
    "data = requests.get(get_group_url, headers={\r\n",
    "                    'Authorization': token})"
   ],
   "outputs": [],
   "metadata": {}
  },
  {
   "cell_type": "code",
   "execution_count": 7,
   "source": [
    "data"
   ],
   "outputs": [
    {
     "output_type": "execute_result",
     "data": {
      "text/plain": [
       "<Response [200]>"
      ]
     },
     "metadata": {},
     "execution_count": 7
    }
   ],
   "metadata": {}
  },
  {
   "cell_type": "code",
   "execution_count": 8,
   "source": [
    "linkat = []\r\n",
    "for i in json.loads(data.text)['list']:\r\n",
    "    linkat.append(i['link'])\r\n",
    "\r\n",
    "matchat = []\r\n",
    "\r\n",
    "for link in linkat:\r\n",
    "    match_stats = json.loads(requests.get(link, headers={\r\n",
    "                    'Authorization': token}).text)\r\n",
    "\r\n",
    "    match = {}\r\n",
    "\r\n",
    "    for i in ['blue', 'orange']:\r\n",
    "        match[i] = {}\r\n",
    "        match[i]['name'] = match_stats[i]['name']\r\n",
    "        match[i]['match_id'] = match_stats['id']\r\n",
    "        match[i]['match_date'] = match_stats['date']\r\n",
    "\r\n",
    "        match[i]['players'] = []\r\n",
    "\r\n",
    "        player_stats = match_stats[i]['players']\r\n",
    "    \r\n",
    "        for stat in player_stats:\r\n",
    "            player = {}\r\n",
    "\r\n",
    "            for f in ['id', 'name', 'car_name']:\r\n",
    "                player[f] = stat[f]\r\n",
    "\r\n",
    "            player['stats'] = {}\r\n",
    "            player['stats']['movement'] = {}\r\n",
    "            \r\n",
    "            for f in ['core', 'demo']:\r\n",
    "                player['stats'][f] = stat['stats'][f]\r\n",
    "\r\n",
    "            for f in ['avg_speed', 'total_distance']:\r\n",
    "                player['stats']['movement'][f] =  stat['stats']['movement'][f]\r\n",
    "\r\n",
    "\r\n",
    "            match[i]['players'].append(player)\r\n",
    "\r\n",
    "    matchat.append(match)"
   ],
   "outputs": [],
   "metadata": {}
  },
  {
   "cell_type": "code",
   "execution_count": 44,
   "source": [
    "#match_stats"
   ],
   "outputs": [],
   "metadata": {}
  },
  {
   "cell_type": "code",
   "execution_count": 45,
   "source": [
    "# x = matchat[1]\r\n",
    "# y = matchat[3]\r\n",
    "# z = copy.deepcopy(matchat[1])\r\n",
    "\r\n",
    "# count = 0\r\n",
    "\r\n",
    "# for f in ['blue', 'orange']:\r\n",
    "#     for i in x[f]['players']:\r\n",
    "#         for j in y[f]['players']:\r\n",
    "#             if i['name'] == j['name']:\r\n",
    "#                 for k in ['core', \"demo\", 'movement']:\r\n",
    "#                     for key in i['stats'][k]:\r\n",
    "#                         if key in j['stats'][k]:\r\n",
    "#                             if key != 'avg_speed':\r\n",
    "#                                 z[f]['players'][count]['stats'][k][key] = i['stats'][k][key] + j['stats'][k][key]\r\n",
    "#                             else:\r\n",
    "#                                 z[f]['players'][count]['stats'][k][key] = max(i['stats'][k][key], j['stats'][k][key])\r\n",
    "#                         else:\r\n",
    "#                             pass\r\n",
    "#         count += 1\r\n",
    "#     count = 0\r\n",
    "\r\n",
    "# del matchat[3]\r\n",
    "# matchat[1] = z\r\n",
    "                "
   ],
   "outputs": [],
   "metadata": {}
  },
  {
   "cell_type": "code",
   "execution_count": 9,
   "source": [
    "with open('21_aug.json', 'w') as f:\r\n",
    "    json.dump({'matches' : matchat}, f)"
   ],
   "outputs": [],
   "metadata": {}
  },
  {
   "cell_type": "code",
   "execution_count": null,
   "source": [],
   "outputs": [],
   "metadata": {}
  }
 ],
 "metadata": {
  "orig_nbformat": 4,
  "language_info": {
   "name": "python",
   "version": "3.8.8",
   "mimetype": "text/x-python",
   "codemirror_mode": {
    "name": "ipython",
    "version": 3
   },
   "pygments_lexer": "ipython3",
   "nbconvert_exporter": "python",
   "file_extension": ".py"
  },
  "kernelspec": {
   "name": "python3",
   "display_name": "Python 3.8.8 64-bit (conda)"
  },
  "interpreter": {
   "hash": "a1b4f4b5b59d091f24ed8aad52614a3516ad0de64d607555a43675d2b4fd5eeb"
  }
 },
 "nbformat": 4,
 "nbformat_minor": 2
}